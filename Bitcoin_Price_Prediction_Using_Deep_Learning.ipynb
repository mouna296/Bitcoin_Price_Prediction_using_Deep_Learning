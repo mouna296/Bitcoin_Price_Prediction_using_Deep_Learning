{
  "nbformat": 4,
  "nbformat_minor": 0,
  "metadata": {
    "colab": {
      "provenance": [],
      "authorship_tag": "ABX9TyPpg6qysFDYVlmr0CPJJZRT"
    },
    "kernelspec": {
      "name": "python3",
      "display_name": "Python 3"
    },
    "language_info": {
      "name": "python"
    }
  },
  "cells": [
    {
      "cell_type": "code",
      "execution_count": null,
      "metadata": {
        "id": "gyqw3I1tZdIx"
      },
      "outputs": [],
      "source": [
        "!pip install numpy pandas matplotlib seaborn scikit-learn keras tensorflow plotly quandl\n"
      ]
    },
    {
      "cell_type": "code",
      "source": [
        "import numpy as np\n",
        "import pandas as pd\n",
        "import matplotlib.pyplot as plt\n",
        "import seaborn as sns\n",
        "from sklearn.preprocessing import MinMaxScaler\n",
        "from sklearn.metrics import mean_squared_error\n",
        "from keras.models import Sequential\n",
        "from keras.layers import Dense, LSTM, GRU\n",
        "import plotly.offline as py\n",
        "import plotly.graph_objs as go\n",
        "import quandl\n"
      ],
      "metadata": {
        "id": "h8osKv67ZpfA"
      },
      "execution_count": 2,
      "outputs": []
    },
    {
      "cell_type": "code",
      "source": [
        "py.init_notebook_mode(connected=True)\n"
      ],
      "metadata": {
        "colab": {
          "base_uri": "https://localhost:8080/",
          "height": 17
        },
        "id": "Wp7iZrXIZsh0",
        "outputId": "e0a0dd0c-017c-4bc0-c812-4355dfac29b5"
      },
      "execution_count": 3,
      "outputs": [
        {
          "output_type": "display_data",
          "data": {
            "text/html": [
              "        <script type=\"text/javascript\">\n",
              "        window.PlotlyConfig = {MathJaxConfig: 'local'};\n",
              "        if (window.MathJax && window.MathJax.Hub && window.MathJax.Hub.Config) {window.MathJax.Hub.Config({SVG: {font: \"STIX-Web\"}});}\n",
              "        if (typeof require !== 'undefined') {\n",
              "        require.undef(\"plotly\");\n",
              "        requirejs.config({\n",
              "            paths: {\n",
              "                'plotly': ['https://cdn.plot.ly/plotly-2.24.1.min']\n",
              "            }\n",
              "        });\n",
              "        require(['plotly'], function(Plotly) {\n",
              "            window._Plotly = Plotly;\n",
              "        });\n",
              "        }\n",
              "        </script>\n",
              "        "
            ]
          },
          "metadata": {}
        }
      ]
    },
    {
      "cell_type": "code",
      "source": [
        "data = quandl.get('BCHARTS/KRAKENUSD', returns='pandas')\n"
      ],
      "metadata": {
        "id": "RNbZi94QZuhY"
      },
      "execution_count": 4,
      "outputs": []
    },
    {
      "cell_type": "code",
      "source": [
        "from google.colab import files\n",
        "uploaded = files.upload()\n",
        "\n",
        "# Load your CSV file\n",
        "import io\n",
        "data = pd.read_csv(io.BytesIO(uploaded['BTCUSDKRAKEN.csv']), index_col=\"Date\")\n"
      ],
      "metadata": {
        "id": "PCVWfa5RZx31"
      },
      "execution_count": null,
      "outputs": []
    },
    {
      "cell_type": "code",
      "source": [
        "data.info()\n",
        "data.head()\n",
        "data.tail()\n",
        "btc_trace = go.Scatter(x=data.index, y=data['Weighted Price'], name= 'Price')\n",
        "py.iplot([btc_trace])\n",
        "data['Weighted Price'].replace(0, np.nan, inplace=True)\n",
        "data['Weighted Price'].fillna(method='ffill', inplace=True)\n",
        "btc_trace = go.Scatter(x=data.index, y=data['Weighted Price'], name= 'Price')\n",
        "py.iplot([btc_trace])"
      ],
      "metadata": {
        "id": "15mA_tB0aszi"
      },
      "execution_count": null,
      "outputs": []
    },
    {
      "cell_type": "code",
      "source": [
        "from sklearn.preprocessing import MinMaxScaler\n",
        "values = data['Weighted Price'].values.reshape(-1,1)\n",
        "values = values.astype('float32')\n",
        "scaler = MinMaxScaler(feature_range=(0, 1))\n",
        "scaled = scaler.fit_transform(values)\n",
        "train_size = int(len(scaled) * 0.7)\n",
        "test_size = len(scaled) - train_size\n",
        "\n",
        "\n",
        "\n",
        "train, test = scaled[0:train_size,:], scaled[train_size:len(scaled),:]\n",
        "print(len(train), len(test))"
      ],
      "metadata": {
        "id": "cvITZ3Jbas74"
      },
      "execution_count": null,
      "outputs": []
    },
    {
      "cell_type": "code",
      "source": [
        "def create_dataset(dataset, look_back=1):\n",
        "dataX, dataY = [], []\n",
        "for i in range(len(dataset) - look_back):\n",
        "a = dataset[i:(i + look_back), 0]\n",
        "dataX.append(a)\n",
        "dataY.append(dataset[i + look_back, 0])\n",
        "print(len(dataY))\n",
        "return np.array(dataX), np.array(dataY)"
      ],
      "metadata": {
        "id": "uNd2lmSuas_R"
      },
      "execution_count": null,
      "outputs": []
    },
    {
      "cell_type": "code",
      "source": [
        "look_back = 1\n",
        "trainX, trainY = create_dataset(train, look_back)\n",
        "testX, testY = create_dataset(test, look_back)\n",
        "trainX = np.reshape(trainX, (trainX.shape[0], 1, trainX.shape[1]))\n",
        "testX = np.reshape(testX, (testX.shape[0], 1, testX.shape[1]))"
      ],
      "metadata": {
        "id": "R-_yaBjhatB1"
      },
      "execution_count": null,
      "outputs": []
    },
    {
      "cell_type": "code",
      "source": [
        "model = Sequential()\n",
        "model.add(LSTM(100, input_shape=(trainX.shape[1], trainX.shape[2])))\n",
        "model.add(Dense(1))\n",
        "model.compile(loss='mae', optimizer='adam')\n",
        "history = model.fit(trainX, trainY, epochs=300, batch_size=100, validation_data=(testX, testY),\n",
        "verbose=0, shuffle=False)\n",
        "pyplot.plot(history.history['loss'], label='train')\n",
        "pyplot.plot(history.history['val_loss'], label='test')\n",
        "pyplot.legend()\n",
        "pyplot.show()"
      ],
      "metadata": {
        "id": "6iI1Xz4keTzW"
      },
      "execution_count": null,
      "outputs": []
    },
    {
      "cell_type": "code",
      "source": [
        "yhat = model.predict(testX)\n",
        "\n",
        "\n",
        "pyplot.plot(yhat, label='predict')\n",
        "pyplot.plot(testY, label='true')\n",
        "pyplot.legend()\n",
        "pyplot.show()"
      ],
      "metadata": {
        "id": "YX5NbyZZeT15"
      },
      "execution_count": null,
      "outputs": []
    },
    {
      "cell_type": "code",
      "source": [
        "yhat_inverse = scaler.inverse_transform(yhat.reshape(-1, 1))\n",
        "testY_inverse = scaler.inverse_transform(testY.reshape(-1, 1))\n",
        "rmse = sqrt(mean_squared_error(testY_inverse, yhat_inverse))\n",
        "print('Test RMSE: %.3f' % rmse)\n",
        "pyplot.plot(yhat_inverse, label='predict')\n",
        "pyplot.plot(testY_inverse, label='actual', alpha=0.5)\n",
        "pyplot.legend()\n",
        "pyplot.show()"
      ],
      "metadata": {
        "id": "jVt2qjPfeT4O"
      },
      "execution_count": null,
      "outputs": []
    },
    {
      "cell_type": "code",
      "source": [
        "predictDates = data.tail(len(testX)).index\n",
        "testY_reshape = testY_inverse.reshape(len(testY_inverse))\n",
        "yhat_reshape = yhat_inverse.reshape(len(yhat_inverse))\n",
        "actual_chart = go.Scatter(x=predictDates, y=testY_reshape, name= 'Actual Price')\n",
        "predict_chart = go.Scatter(x=predictDates, y=yhat_reshape, name= 'Predict Price')\n",
        "py.iplot([predict_chart, actual_chart])\n",
        "sns.heatmap(data.corr(), annot=True, cmap='RdYlGn', linewidths=0.1, vmin=0)"
      ],
      "metadata": {
        "id": "tKLCgiLCeT6i"
      },
      "execution_count": null,
      "outputs": []
    },
    {
      "cell_type": "code",
      "source": [
        "def series_to_supervised(data, n_in=1, n_out=1, dropnan=True):\n",
        "n_vars = 1 if type(data) is list else data.shape[1]\n",
        "df = pd.DataFrame(data)\n",
        "cols, names = list(), list()\n",
        "# input sequence (t-n, ... t-1)\n",
        "for i in range(n_in, 0, -1):\n",
        "cols.append(df.shift(i))\n",
        "names += [('var%d(t-%d)' % (j+1, i)) for j in range(n_vars)]\n",
        "# forecast sequence (t, t+1, ... t+n)\n",
        "for i in range(0, n_out):\n",
        "cols.append(df.shift(-i))\n",
        "if i == 0:\n",
        "names += [('var%d(t)' % (j+1)) for j in range(n_vars)]\n",
        "else:\n",
        "names += [('var%d(t+%d)' % (j+1, i)) for j in range(n_vars)]"
      ],
      "metadata": {
        "id": "m2mYJr2MeT86"
      },
      "execution_count": null,
      "outputs": []
    },
    {
      "cell_type": "code",
      "source": [
        "# put it all together\n",
        "agg = pd.concat(cols, axis=1)\n",
        "agg.columns = names\n",
        "# drop rows with NaN values\n",
        "if dropnan:\n",
        "agg.dropna(inplace=True)\n",
        "return agg"
      ],
      "metadata": {
        "id": "Je1yfEpLeT_e"
      },
      "execution_count": null,
      "outputs": []
    },
    {
      "cell_type": "code",
      "source": [
        "values = data[['Weighted Price'] + ['Volume (BTC)'] + ['Volume (Currency)']].values\n",
        "values = values.astype('float32')\n",
        "scaler = MinMaxScaler(feature_range=(0, 1))\n",
        "scaled = scaler.fit_transform(values)\n",
        "reframed = series_to_supervised(scaled, 1, 1)\n",
        "reframed.head()\n",
        "reframed.drop(reframed.columns[[4,5]], axis=1, inplace=True)\n",
        "print(reframed.head())"
      ],
      "metadata": {
        "id": "EWLCLsU0eUCW"
      },
      "execution_count": null,
      "outputs": []
    },
    {
      "cell_type": "code",
      "source": [
        "values = reframed.values\n",
        "n_train_hours = int(len(values) * 0.7)\n",
        "train = values[:n_train_hours, :]\n",
        "test = values[n_train_hours:, :]\n",
        "# split into input and outputs\n",
        "train_X, train_y = train[:, :-1], train[:, -1]\n",
        "test_X, test_y = test[:, :-1], test[:, -1]\n",
        "# reshape input to be 3D [samples, timesteps, features]\n",
        "train_X = train_X.reshape((train_X.shape[0], 1, train_X.shape[1]))\n",
        "test_X = test_X.reshape((test_X.shape[0], 1, test_X.shape[1]))\n",
        "print(train_X.shape, train_y.shape, test_X.shape, test_y.shape)"
      ],
      "metadata": {
        "id": "Hs-LPFdFenBK"
      },
      "execution_count": null,
      "outputs": []
    },
    {
      "cell_type": "code",
      "source": [
        "multi_model = Sequential()\n",
        "multi_model.add(LSTM(100, input_shape=(train_X.shape[1], train_X.shape[2])))\n",
        "multi_model.add(Dense(1))\n",
        "multi_model.compile(loss='mae', optimizer='adam')\n",
        "multi_history = multi_model.fit(train_X, train_y, epochs=300, batch_size=100,\n",
        "validation_data=(test_X, test_y), verbose=0, shuffle=False)\n",
        "pyplot.plot(multi_history.history['loss'], label='multi_train')\n",
        "\n",
        "\n",
        "\n",
        "pyplot.plot(multi_history.history['val_loss'], label='multi_test')\n",
        "pyplot.legend()\n",
        "pyplot.show()"
      ],
      "metadata": {
        "id": "Lgxe7LKpenDk"
      },
      "execution_count": null,
      "outputs": []
    },
    {
      "cell_type": "code",
      "source": [
        "yhat = multi_model.predict(test_X)\n",
        "pyplot.plot(yhat, label='predict')\n",
        "pyplot.plot(test_y, label='true')\n",
        "pyplot.legend()\n",
        "pyplot.show()\n",
        "test_X = test_X.reshape((test_X.shape[0], test_X.shape[2]))\n",
        "# invert scaling for forecast\n",
        "inv_yhat = concatenate((yhat, test_X[:, 1:]), axis=1)\n",
        "inv_yhat = scaler.inverse_transform(inv_yhat)\n",
        "inv_yhat = inv_yhat[:,0]\n",
        "# invert scaling for actual\n",
        "test_y = test_y.reshape((len(test_y), 1))\n",
        "inv_y = concatenate((test_y, test_X[:, 1:]), axis=1)\n",
        "inv_y = scaler.inverse_transform(inv_y)\n",
        "inv_y = inv_y[:,0]\n",
        "rmse1 = sqrt(mean_squared_error(inv_y, inv_yhat))\n",
        "print('Test RMSE: %.3f' % rmse1)"
      ],
      "metadata": {
        "id": "HANi-cJ8enF5"
      },
      "execution_count": null,
      "outputs": []
    },
    {
      "cell_type": "code",
      "source": [
        "actual_chart = go.Scatter(x=predictDates, y=inv_y, name= 'Actual Price')\n",
        "multi_predict_chart = go.Scatter(x=predictDates, y=inv_yhat, name= 'Multi Predict Price')\n",
        "predict_chart = go.Scatter(x=predictDates, y=yhat_reshape, name= 'Predict Price')\n",
        "py.iplot([predict_chart, multi_predict_chart, actual_chart])\n",
        "height=[rmse,rmse1]\n",
        "left=[1,2]\n",
        "tick_label=['single','multi']\n",
        "pyplot.bar( left,height, tick_label = tick_label, width = 0.6, color = ['red', 'green'])"
      ],
      "metadata": {
        "id": "5XfgT_TIeute"
      },
      "execution_count": null,
      "outputs": []
    },
    {
      "cell_type": "code",
      "source": [],
      "metadata": {
        "id": "5j7nOuBgeuvs"
      },
      "execution_count": null,
      "outputs": []
    },
    {
      "cell_type": "code",
      "source": [
        "##GRU"
      ],
      "metadata": {
        "id": "5IQI_QtUatEP"
      },
      "execution_count": null,
      "outputs": []
    },
    {
      "cell_type": "code",
      "source": [
        "model = Sequential()\n",
        "model.add(GRU(100, input_shape=(trainX.shape[1], trainX.shape[2])))\n",
        "model.add(Dense(1))\n",
        "model.compile(loss='mae', optimizer='adam')\n",
        "history = model.fit(trainX, trainY, epochs=300, batch_size=100, validation_data=(testX, testY),\n",
        "verbose=0, shuffle=False)"
      ],
      "metadata": {
        "id": "4xbEglNAatNV"
      },
      "execution_count": null,
      "outputs": []
    },
    {
      "cell_type": "code",
      "source": [
        "btc_trace = go.Scatter(x=data.index, y=data['Weighted Price'], name= 'Price')\n",
        "py.iplot([btc_trace])\n",
        "data['Weighted Price'].replace(0, np.nan, inplace=True)\n",
        "data['Weighted Price'].fillna(method='ffill', inplace=True)\n",
        "btc_trace = go.Scatter(x=data.index, y=data['Weighted Price'], name= 'Price')\n",
        "py.iplot([btc_trace])\n",
        "from sklearn.preprocessing import MinMaxScaler\n",
        "values = data['Weighted Price'].values.reshape(-1,1)\n",
        "values = values.astype('float32')\n",
        "scaler = MinMaxScaler(feature_range=(0, 1))\n",
        "scaled = scaler.fit_transform(values)"
      ],
      "metadata": {
        "id": "QRy7jgRjatQz"
      },
      "execution_count": null,
      "outputs": []
    },
    {
      "cell_type": "code",
      "source": [
        "train_size = int(len(scaled) * 0.7)\n",
        "test_size = len(scaled) - train_size\n",
        "\n",
        "\n",
        "\n",
        "train, test = scaled[0:train_size,:], scaled[train_size:len(scaled),:]\n",
        "print(len(train), len(test))"
      ],
      "metadata": {
        "id": "DUugBo_hatTm"
      },
      "execution_count": null,
      "outputs": []
    },
    {
      "cell_type": "code",
      "source": [
        "def create_dataset(dataset, look_back=1):\n",
        "dataX, dataY = [], []\n",
        "for i in range(len(dataset) - look_back):\n",
        "a = dataset[i:(i + look_back), 0]\n",
        "dataX.append(a)\n",
        "dataY.append(dataset[i + look_back, 0])\n",
        "print(len(dataY))\n",
        "return np.array(dataX), np.array(dataY)\n",
        "look_back = 1\n",
        "trainX, trainY = create_dataset(train, look_back)\n",
        "testX, testY = create_dataset(test, look_back)"
      ],
      "metadata": {
        "id": "9nRaFB9NatV6"
      },
      "execution_count": null,
      "outputs": []
    },
    {
      "cell_type": "code",
      "source": [
        "trainX = np.reshape(trainX, (trainX.shape[0], 1, trainX.shape[1]))\n",
        "testX = np.reshape(testX, (testX.shape[0], 1, testX.shape[1]))\n",
        "model = Sequential()\n",
        "model.add(GRU(100, input_shape=(trainX.shape[1], trainX.shape[2])))\n",
        "model.add(Dense(1))\n",
        "model.compile(loss='mae', optimizer='adam')\n",
        "history = model.fit(trainX, trainY, epochs=300, batch_size=100, validation_data=(testX, testY),\n",
        "verbose=0, shuffle=False)"
      ],
      "metadata": {
        "id": "5ZafRi-Je981"
      },
      "execution_count": null,
      "outputs": []
    },
    {
      "cell_type": "code",
      "source": [
        "pyplot.plot(history.history['loss'], label='train')\n",
        "pyplot.plot(history.history['val_loss'], label='test')\n",
        "pyplot.legend()\n",
        "pyplot.show()\n",
        "yhat = model.predict(testX)\n",
        "pyplot.plot(yhat, label='predict')\n",
        "pyplot.plot(testY, label='true')\n",
        "pyplot.legend()\n",
        "pyplot.show()\n",
        "yhat_inverse = scaler.inverse_transform(yhat.reshape(-1, 1))\n",
        "testY_inverse = scaler.inverse_transform(testY.reshape(-1, 1))"
      ],
      "metadata": {
        "id": "xdFqw3mMe9_e"
      },
      "execution_count": null,
      "outputs": []
    },
    {
      "cell_type": "code",
      "source": [
        "rmse = sqrt(mean_squared_error(testY_inverse, yhat_inverse))\n",
        "print('Test RMSE: %.3f' % rmse)\n",
        "pyplot.plot(yhat_inverse, label='predict')\n",
        "pyplot.plot(testY_inverse, label='actual', alpha=0.5)\n",
        "pyplot.legend()\n",
        "pyplot.show()"
      ],
      "metadata": {
        "id": "fjoEW1bGfOpo"
      },
      "execution_count": null,
      "outputs": []
    },
    {
      "cell_type": "code",
      "source": [
        "predictDates = data.tail(len(testX)).index\n",
        "testY_reshape = testY_inverse.reshape(len(testY_inverse))\n",
        "yhat_reshape = yhat_inverse.reshape(len(yhat_inverse))\n",
        "actual_chart = go.Scatter(x=predictDates, y=testY_reshape, name= 'Actual Price')\n",
        "predict_chart = go.Scatter(x=predictDates, y=yhat_reshape, name= 'Predict Price')\n",
        "py.iplot([predict_chart, actual_chart])\n",
        "sns.heatmap(data.corr(), annot=True, cmap='RdYlGn', linewidths=0.1, vmin=0)"
      ],
      "metadata": {
        "id": "btoelJlefOwr"
      },
      "execution_count": null,
      "outputs": []
    },
    {
      "cell_type": "code",
      "source": [
        "def series_to_supervised(data, n_in=1, n_out=1, dropnan=True):\n",
        "n_vars = 1 if type(data) is list else data.shape[1]\n",
        "df = pd.DataFrame(data)\n",
        "cols, names = list(), list()\n",
        "# input sequence (t-n, ... t-1)\n",
        "for i in range(n_in, 0, -1):\n",
        "cols.append(df.shift(i))\n",
        "names += [('var%d(t-%d)' % (j+1, i)) for j in range(n_vars)]\n",
        "# forecast sequence (t, t+1, ... t+n)\n",
        "for i in range(0, n_out):\n",
        "cols.append(df.shift(-i))\n",
        "if i == 0:\n",
        "names += [('var%d(t)' % (j+1)) for j in range(n_vars)]\n",
        "else:\n",
        "names += [('var%d(t+%d)' % (j+1, i)) for j in range(n_vars)]\n",
        "# put it all together\n",
        "agg = pd.concat(cols, axis=1)\n",
        "agg.columns = names\n",
        "# drop rows with NaN values\n",
        "if dropnan:\n",
        "agg.dropna(inplace=True)\n",
        "return agg"
      ],
      "metadata": {
        "id": "8I7QDofcfOzw"
      },
      "execution_count": null,
      "outputs": []
    },
    {
      "cell_type": "code",
      "source": [
        "values = data[['Weighted Price'] + ['Volume (BTC)'] + ['Volume (Currency)']].values\n",
        "values = values.astype('float32')\n",
        "scaler = MinMaxScaler(feature_range=(0, 1))\n",
        "scaled = scaler.fit_transform(values)\n",
        "reframed = series_to_supervised(scaled, 1, 1)\n",
        "reframed.head()\n",
        "reframed.drop(reframed.columns[[4,5]], axis=1, inplace=True)\n",
        "print(reframed.head())"
      ],
      "metadata": {
        "id": "Yev-v8jjfYdr"
      },
      "execution_count": null,
      "outputs": []
    },
    {
      "cell_type": "code",
      "source": [
        "values = reframed.values\n",
        "n_train_hours = int(len(values) * 0.7)\n",
        "train = values[:n_train_hours, :]\n",
        "test = values[n_train_hours:, :]\n",
        "# split into input and outputs\n",
        "train_X, train_y = train[:, :-1], train[:, -1]\n",
        "test_X, test_y = test[:, :-1], test[:, -1]\n",
        "# reshape input to be 3D [samples, timesteps, features]\n",
        "train_X = train_X.reshape((train_X.shape[0], 1, train_X.shape[1]))\n",
        "test_X = test_X.reshape((test_X.shape[0], 1, test_X.shape[1]))\n",
        "print(train_X.shape, train_y.shape, test_X.shape, test_y.shape)\n",
        "multi_model = Sequential()\n",
        "multi_model.add(GRU(100, input_shape=(train_X.shape[1], train_X.shape[2])))\n",
        "multi_model.add(Dense(1))\n",
        "multi_model.compile(loss='mae', optimizer='adam')\n",
        "multi_history = multi_model.fit(train_X, train_y, epochs=300, batch_size=100,\n",
        "validation_data=(test_X, test_y), verbose=0, shuffle=False)\n",
        "pyplot.plot(multi_history.history['loss'], label='multi_train')\n",
        "pyplot.plot(multi_history.history['val_loss'], label='multi_test')\n",
        "pyplot.legend()\n",
        "pyplot.show()"
      ],
      "metadata": {
        "id": "pejNoi5-fYob"
      },
      "execution_count": null,
      "outputs": []
    },
    {
      "cell_type": "code",
      "source": [
        "yhat = multi_model.predict(test_X)\n",
        "pyplot.plot(yhat, label='predict')\n",
        "pyplot.plot(test_y, label='true')\n",
        "pyplot.legend()\n",
        "pyplot.show()"
      ],
      "metadata": {
        "id": "UI3-BG2ifdf8"
      },
      "execution_count": null,
      "outputs": []
    },
    {
      "cell_type": "code",
      "source": [
        "test_X = test_X.reshape((test_X.shape[0], test_X.shape[2]))\n",
        "# invert scaling for forecast\n",
        "inv_yhat = concatenate((yhat, test_X[:, 1:]), axis=1)\n",
        "inv_yhat = scaler.inverse_transform(inv_yhat)\n",
        "inv_yhat = inv_yhat[:,0]\n",
        "# invert scaling for actual\n",
        "test_y = test_y.reshape((len(test_y), 1))\n",
        "inv_y = concatenate((test_y, test_X[:, 1:]), axis=1)\n",
        "inv_y = scaler.inverse_transform(inv_y)\n",
        "inv_y = inv_y[:,0]\n",
        "rmse1 = sqrt(mean_squared_error(inv_y, inv_yhat))\n",
        "print('Test RMSE: %.3f' % rmse1)"
      ],
      "metadata": {
        "id": "aNYi0OoxffuE"
      },
      "execution_count": null,
      "outputs": []
    },
    {
      "cell_type": "code",
      "source": [
        "actual_chart = go.Scatter(x=predictDates, y=inv_y, name= 'Actual Price')\n",
        "multi_predict_chart = go.Scatter(x=predictDates, y=inv_yhat, name= 'Multi Predict Price')\n",
        "predict_chart = go.Scatter(x=predictDates, y=yhat_reshape, name= 'Predict Price')\n",
        "py.iplot([predict_chart, multi_predict_chart, actual_chart])\n",
        "height=[rmse,rmse1]\n",
        "left=[1,2]\n",
        "tick_label=['single','multi']\n",
        "pyplot.bar( left,height, tick_label = tick_label, width = 0.6, color = ['red', 'green'])"
      ],
      "metadata": {
        "id": "fiXMGCZMffwu"
      },
      "execution_count": null,
      "outputs": []
    }
  ]
}